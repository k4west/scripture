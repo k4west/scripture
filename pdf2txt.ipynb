{
 "cells": [
  {
   "cell_type": "markdown",
   "metadata": {},
   "source": [
    "# pdf 2 json"
   ]
  },
  {
   "cell_type": "code",
   "execution_count": 36,
   "metadata": {},
   "outputs": [
    {
     "name": "stdout",
     "output_type": "stream",
     "text": [
      "Collecting PyPDF2\n",
      "  Downloading pypdf2-3.0.1-py3-none-any.whl.metadata (6.8 kB)\n",
      "Downloading pypdf2-3.0.1-py3-none-any.whl (232 kB)\n",
      "   ---------------------------------------- 0.0/232.6 kB ? eta -:--:--\n",
      "   ---------------------------------------- 0.0/232.6 kB ? eta -:--:--\n",
      "   - -------------------------------------- 10.2/232.6 kB ? eta -:--:--\n",
      "   - -------------------------------------- 10.2/232.6 kB ? eta -:--:--\n",
      "   - -------------------------------------- 10.2/232.6 kB ? eta -:--:--\n",
      "   ----- --------------------------------- 30.7/232.6 kB 187.9 kB/s eta 0:00:02\n",
      "   ------ -------------------------------- 41.0/232.6 kB 163.4 kB/s eta 0:00:02\n",
      "   ---------- ---------------------------- 61.4/232.6 kB 233.8 kB/s eta 0:00:01\n",
      "   ------------ -------------------------- 71.7/232.6 kB 245.8 kB/s eta 0:00:01\n",
      "   ---------------- --------------------- 102.4/232.6 kB 294.4 kB/s eta 0:00:01\n",
      "   ----------------------- -------------- 143.4/232.6 kB 370.8 kB/s eta 0:00:01\n",
      "   ---------------------------- --------- 174.1/232.6 kB 403.5 kB/s eta 0:00:01\n",
      "   ------------------------------------ - 225.3/232.6 kB 458.5 kB/s eta 0:00:01\n",
      "   -------------------------------------- 232.6/232.6 kB 459.4 kB/s eta 0:00:00\n",
      "Installing collected packages: PyPDF2\n",
      "Successfully installed PyPDF2-3.0.1\n"
     ]
    },
    {
     "name": "stderr",
     "output_type": "stream",
     "text": [
      "\n",
      "[notice] A new release of pip is available: 24.0 -> 24.1.2\n",
      "[notice] To update, run: python.exe -m pip install --upgrade pip\n"
     ]
    }
   ],
   "source": [
    "# ! pip install PyPDF2\n",
    "from PyPDF2 import PdfReader\n",
    "\n",
    "reader = PdfReader('IVBOMCoreEdition-230417.pdf')\n",
    "pages = reader.pages"
   ]
  },
  {
   "cell_type": "code",
   "execution_count": 166,
   "metadata": {},
   "outputs": [
    {
     "name": "stdout",
     "output_type": "stream",
     "text": [
      "[['Matt.마', 22, [1, 2, 3, 4, 5, 6, 7, 8, 9, 10, 11, 12, 13, 14, 15, 16, 17, 18, 19, 20, 21, 22, 23, 24]], ['Mark 막', 122, [1, 2, 3, 4, 5, 6, 7, 8, 9, 10, 11, 12, 13, 14, 15, 16]], ['Luke 눅', 184, [1, 2, 3, 4, 5, 6, 7, 8, 9, 10, 11, 12, 13, 14, 15, 16, 17, 18, 19, 20, 21, 22, 23, 24]], ['John 요', 284, [1, 2, 3, 4, 5, 6, 7, 8, 9, 10, 11, 12, 13, 14, 15, 16, 17, 18, 19, 20, 21]], ['Acts 행', 359, [1, 2, 3, 4, 5, 6, 7, 8, 9, 10, 11, 12, 13, 14, 15, 16, 17, 18, 19, 20, 21, 22, 23, 24]], ['Rom.롬', 447, [1, 2, 3, 4, 5, 6, 7, 8, 9, 10, 11, 12, 13, 14, 15, 16]], ['1Cor.고전', 486, [1, 2, 3, 4, 5, 6, 7, 8, 9, 10, 11, 12, 13, 14, 15, 16]], ['2Cor.고후', 525, [1, 2, 3, 4, 5, 6, 7, 8, 9, 10, 11, 12, 13]], ['Gal.갈', 550, [1, 2, 3, 4, 5, 6]], ['Eph.엡', 564, [1, 2, 3, 4, 5, 6]], ['Philip.빌', 577, [1, 2, 3, 4]], ['Col.골', 587, [1, 2, 3, 4]], ['1Thes.살전', 596, [1, 2, 3, 4, 5]], ['2Thes.살후', 604, [1, 2, 3]], ['1Tim.딤전', 609, [1, 2, 3, 4, 5, 6]], ['2Tim.딤후', 620, [1, 2, 3, 4]], ['Titus 딛', 628, [1, 2, 3]], ['Philem.몬', 633, [1]], ['Heb.히', 635, [1, 2, 3, 4, 5, 6, 7, 8, 9, 10, 11, 12, 13]], ['James 약', 663, [1, 2, 3, 4, 5]], ['1Pet.벧전', 673, [1, 2, 3, 4, 5]], ['2Pet.벧후', 684, [1, 2, 3]], ['1Jn.요일', 691, [1, 2, 3, 4, 5]], ['2Jn.요이', 702, [1]], ['3Jn.요삼', 704, [1]], ['Jude 유', 706, [1]], ['Rev.계', 709, [1, 2, 3, 4, 5, 6, 7, 8, 9, 10, 11, 12, 13, 14, 15, 16, 17, 18, 19, 20, 21, 22]]]\n"
     ]
    }
   ],
   "source": [
    "text = []\n",
    "s = 2 # 185 750\n",
    "n = 1\n",
    "for i, page in enumerate(pages[s:s+n], s+1):\n",
    "    sub = page.extract_text()\n",
    "    sub = sub.lstrip(str(i)).lstrip()\n",
    "    text.append(sub)\n",
    "# print('\\n'.join(text[0].split('\\n')[10:-3]))\n",
    "lip = [*map(lambda x: x.split()[-1], text[0].split('\\n')[10:-3])]\n",
    "lin = [*map(lambda x: x[x.index('(')+1:x.index(')')].replace('. ', '.'), text[0].split('\\n')[10:-3])]\n",
    "\n",
    "lic = []\n",
    "for idx, i in enumerate(map(int, lip)):\n",
    "    sub = pages[i-1].extract_text()\n",
    "    sub = sub.lstrip(str(i)).lstrip()\n",
    "    t = sub.split('\\n')[:6]\n",
    "    if lin[idx][:4] in t[0]:\n",
    "        if ',' in t[1]:\n",
    "            lic.append([*map(int, t[1].rstrip(', ').split(','))])\n",
    "        else:\n",
    "            lic.append([1])\n",
    "    else:\n",
    "        lic.append([*map(int, t[4].rstrip(', ').split(','))])\n",
    "\n",
    "li = [[p, int(n)-1, c] for p, n, c in zip(lin, lip, lic)]\n",
    "li[0][2].extend([25, 26, 27, 28])\n",
    "li[4][2].extend([25, 26, 27, 28])\n",
    "print(li)"
   ]
  },
  {
   "cell_type": "code",
   "execution_count": null,
   "metadata": {},
   "outputs": [],
   "source": [
    "tt = [['Matt.마', 22, [1, 2, 3, 4, 5, 6, 7, 8, 9, 10, 11, 12, 13, 14, 15, 16, 17, 18, 19, 20, 21, 22, 23, 24, 25, 26, 27, 28]], ['Mark 막', 122, [1, 2, 3, 4, 5, 6, 7, 8, 9, 10, 11, 12, 13, 14, 15, 16]], ['Luke 눅', 184, [1, 2, 3, 4, 5, 6, 7, 8, 9, 10, 11, 12, 13, 14, 15, 16, 17, 18, 19, 20, 21, 22, 23, 24]], ['John 요', 284, [1, 2, 3, 4, 5, 6, 7, 8, 9, 10, 11, 12, 13, 14, 15, 16, 17, 18, 19, 20, 21]], ['Acts 행', 359, [1, 2, 3, 4, 5, 6, 7, 8, 9, 10, 11, 12, 13, 14, 15, 16, 17, 18, 19, 20, 21, 22, 23, 24, 25, 26, 27, 28]], ['Rom.롬', 447, [1, 2, 3, 4, 5, 6, 7, 8, 9, 10, 11, 12, 13, 14, 15, 16]], ['1Cor.고전', 486, [1, 2, 3, 4, 5, 6, 7, 8, 9, 10, 11, 12, 13, 14, 15, 16]], ['2Cor.고후', 525, [1, 2, 3, 4, 5, 6, 7, 8, 9, 10, 11, 12, 13]], ['Gal.갈', 550, [1, 2, 3, 4, 5, 6]], ['Eph.엡', 564, [1, 2, 3, 4, 5, 6]], ['Philip.빌', 577, [1, 2, 3, 4]], ['Col.골', 587, [1, 2, 3, 4]], ['1Thes.살전', 596, [1, 2, 3, 4, 5]], ['2Thes.살후', 604, [1, 2, 3]], ['1Tim.딤전', 609, [1, 2, 3, 4, 5, 6]], ['2Tim.딤후', 620, [1, 2, 3, 4]], ['Titus 딛', 628, [1, 2, 3]], ['Philem.몬', 633, [1]], ['Heb.히', 635, [1, 2, 3, 4, 5, 6, 7, 8, 9, 10, 11, 12, 13]], ['James 약', 663, [1, 2, 3, 4, 5]], ['1Pet.벧전', 673, [1, 2, 3, 4, 5]], ['2Pet.벧후', 684, [1, 2, 3]], ['1Jn.요일', 691, [1, 2, 3, 4, 5]], ['2Jn.요이', 702, [1]], ['3Jn.요삼', 704, [1]], ['Jude 유', 706, [1]], ['Rev.계', 709, [1, 2, 3, 4, 5, 6, 7, 8, 9, 10, 11, 12, 13, 14, 15, 16, 17, 18, 19, 20, 21, 22]]]"
   ]
  },
  {
   "cell_type": "code",
   "execution_count": 51,
   "metadata": {},
   "outputs": [
    {
     "name": "stderr",
     "output_type": "stream",
     "text": [
      "100it [00:12,  8.11it/s]  | 0/27 [00:12<?, ?it/s]\n",
      "62it [00:07,  8.17it/s]   | 1/27 [00:19<05:20, 12.34s/it]\n",
      "100it [00:12,  8.09it/s]  | 2/27 [00:31<03:58,  9.55s/it]\n",
      "75it [00:09,  8.00it/s]   | 3/27 [00:41<04:20, 10.84s/it]\n",
      "88it [00:10,  8.43it/s]   | 4/27 [00:51<03:55, 10.26s/it]\n",
      "39it [00:04,  8.07it/s]  | 5/27 [00:56<03:47, 10.32s/it] \n",
      "39it [00:04,  8.29it/s]    | 6/27 [01:01<02:57,  8.46s/it]\n",
      "25it [00:02,  8.45it/s]    | 7/27 [01:04<02:24,  7.23s/it]\n",
      "14it [00:01,  8.64it/s] | 8/27 [01:06<01:51,  5.87s/it]    \n",
      "13it [00:01,  8.22it/s] | 9/27 [01:07<01:21,  4.54s/it]\n",
      "10it [00:01,  9.22it/s]    | 10/27 [01:08<01:01,  3.63s/it]\n",
      "9it [00:01,  8.72it/s]  | 11/27 [01:09<00:45,  2.85s/it]   \n",
      "8it [00:00,  8.56it/s]     | 12/27 [01:10<00:34,  2.30s/it]\n",
      "5it [00:00,  8.71it/s]     | 13/27 [01:11<00:26,  1.89s/it]\n",
      "11it [00:01,  9.71it/s]   | 14/27 [01:12<00:19,  1.49s/it] \n",
      "8it [00:00,  8.90it/s]    | 15/27 [01:13<00:16,  1.39s/it]\n",
      "5it [00:00, 10.64it/s]    | 16/27 [01:13<00:13,  1.24s/it] \n",
      "2it [00:00,  8.13it/s]█▎   | 17/27 [01:13<00:10,  1.01s/it]\n",
      "28it [00:03,  8.99it/s]  | 18/27 [01:17<00:07,  1.28it/s]  \n",
      "10it [00:01,  8.40it/s]   | 19/27 [01:18<00:11,  1.48s/it]\n",
      "11it [00:01,  9.19it/s]▍  | 20/27 [01:19<00:09,  1.40s/it]\n",
      "7it [00:00,  8.12it/s]█▊  | 21/27 [01:20<00:08,  1.34s/it]\n",
      "11it [00:01,  8.33it/s]▏ | 22/27 [01:21<00:05,  1.20s/it] \n",
      "2it [00:00, 15.91it/s]█▌ | 23/27 [01:21<00:04,  1.23s/it]\n",
      "2it [00:00, 16.49it/s]█▉ | 24/27 [01:22<00:02,  1.11it/s]\n",
      "3it [00:00,  9.62it/s]██▎| 25/27 [01:22<00:01,  1.49it/s] \n",
      "42it [00:05,  8.02it/s]█▋| 26/27 [01:27<00:00,  1.77it/s]\n",
      "Rev.계 22: 100%|██████████| 27/27 [01:27<00:00,  3.25s/it]\n"
     ]
    }
   ],
   "source": [
    "import re\n",
    "import json\n",
    "# ! pip install tqdm\n",
    "from tqdm.auto import tqdm\n",
    "\n",
    "\n",
    "li = [['Matt.마', 22, [1, 2, 3, 4, 5, 6, 7, 8, 9, 10, 11, 12, 13, 14, 15, 16, 17, 18, 19, 20, 21, 22, 23, 24, 25, 26, 27, 28]], ['Mark 막', 122, [1, 2, 3, 4, 5, 6, 7, 8, 9, 10, 11, 12, 13, 14, 15, 16]], ['Luke 눅', 184, [1, 2, 3, 4, 5, 6, 7, 8, 9, 10, 11, 12, 13, 14, 15, 16, 17, 18, 19, 20, 21, 22, 23, 24]], ['John 요', 284, [1, 2, 3, 4, 5, 6, 7, 8, 9, 10, 11, 12, 13, 14, 15, 16, 17, 18, 19, 20, 21]], ['Acts 행', 359, [1, 2, 3, 4, 5, 6, 7, 8, 9, 10, 11, 12, 13, 14, 15, 16, 17, 18, 19, 20, 21, 22, 23, 24, 25, 26, 27, 28]], ['Rom.롬', 447, [1, 2, 3, 4, 5, 6, 7, 8, 9, 10, 11, 12, 13, 14, 15, 16]], ['1Cor.고전', 486, [1, 2, 3, 4, 5, 6, 7, 8, 9, 10, 11, 12, 13, 14, 15, 16]], ['2Cor.고후', 525, [1, 2, 3, 4, 5, 6, 7, 8, 9, 10, 11, 12, 13]], ['Gal.갈', 550, [1, 2, 3, 4, 5, 6]], ['Eph.엡', 564, [1, 2, 3, 4, 5, 6]], ['Philip.빌', 577, [1, 2, 3, 4]], ['Col.골', 587, [1, 2, 3, 4]], ['1Thes.살전', 596, [1, 2, 3, 4, 5]], ['2Thes.살후', 604, [1, 2, 3]], ['1Tim.딤전', 609, [1, 2, 3, 4, 5, 6]], ['2Tim.딤후', 620, [1, 2, 3, 4]], ['Titus 딛', 628, [1, 2, 3]], ['Philem.몬', 633, [1]], ['Heb.히', 635, [1, 2, 3, 4, 5, 6, 7, 8, 9, 10, 11, 12, 13]], ['James 약', 663, [1, 2, 3, 4, 5]], ['1Pet.벧전', 673, [1, 2, 3, 4, 5]], ['2Pet.벧후', 684, [1, 2, 3]], ['1Jn.요일', 691, [1, 2, 3, 4, 5]], ['2Jn.요이', 702, [1]], ['3Jn.요삼', 704, [1]], ['Jude 유', 706, [1]], ['Rev.계', 709, [1, 2, 3, 4, 5, 6, 7, 8, 9, 10, 11, 12, 13, 14, 15, 16, 17, 18, 19, 20, 21, 22]], [0,751,0]]\n",
    "JST = {}\n",
    "first = tqdm(range(len(li)-1))\n",
    "for idx in first:\n",
    "    (chapter_name, s, chapters), e = li[idx], li[idx+1][1]\n",
    "    chapters = {chap: [] for chap in chapters}\n",
    "    chapter_name_len = len(chapter_name)\n",
    "    chapter_n = 1\n",
    "    first.set_description(desc=f'{chapter_name} {chapter_n}')\n",
    "    sep = '.'  if '.' in chapter_name else ' '\n",
    "\n",
    "    flag = False\n",
    "    for i, page in tqdm(enumerate(pages[s:e], s+1)):\n",
    "        sub = page.extract_text()\n",
    "        verse = []\n",
    "        for j, line in enumerate(sub.lstrip(str(i)).lstrip().split('\\n')):\n",
    "            if line.startswith('△'):\n",
    "                flag = True\n",
    "            if not flag:\n",
    "                continue\n",
    "            if line.startswith('△'):\n",
    "                for k, pattern in enumerate([chapter_name+r'\\s*[\\d]+:\\s*[\\d]+, JST', chapter_name.replace(sep, '')+r'\\s*[\\d]+:\\s*[\\d]+, JST', chapter_name, chapter_name.replace(sep, ''), chapter_name.replace(sep, sep+' ')+r'\\s*[\\d]+:\\s*[\\d]+, JST', chapter_name.replace(sep, sep+' ')]):\n",
    "                    t = re.search(pattern+r'\\s*[\\d]+:\\s*[\\d]+', line)\n",
    "                    if t != None:\n",
    "                        break\n",
    "                ss, se = t.span()\n",
    "                tmp = int(line[ss + chapter_name_len - (k%2 and k<4) + (k>3): line.index(':')])\n",
    "                if chapter_n < tmp:\n",
    "                    chapters[chapter_n].append(' '.join(verse).replace('- ', '').replace('△', '').replace('   ', ' ').replace('  ', ' ').strip())\n",
    "                    chapter_n = tmp\n",
    "                    verse = []\n",
    "                    first.set_description(desc=f'{chapter_name} {chapter_n}')\n",
    "                verse.append(line.replace(': ', ':'))\n",
    "            elif line.startswith('JST'):\n",
    "                # t = re.search(r'JST[\\d]+:\\s*[\\d]+', line)\n",
    "                # ss, se = t.span()\n",
    "                # tmp = int(line[3:line.index(':')])\n",
    "                # if chapter_n < tmp:\n",
    "                #     chapters[chapter_n].append(' '.join(verse).replace('- ', '').replace('△', '').replace('   ', ' ').replace('  ', ' ').strip())\n",
    "                #     chapter_n = tmp\n",
    "                #     verse = []\n",
    "                #     first.set_description(desc=f'{chapter_name} {chapter_n}')\n",
    "                verse.append(line.replace(': ', ':'))\n",
    "            else:\n",
    "                        \n",
    "                if line.strip():\n",
    "                    verse.append(line)\n",
    "        chapters[chapter_n].append(' '.join(verse).replace('- ', '').replace('△', '').replace('   ', ' ').replace('  ', ' ').strip())\n",
    "    \n",
    "    if '.' in chapter_name:\n",
    "        chapter_name = chapter_name.split('.')[0]\n",
    "    if ' ' in chapter_name:\n",
    "        chapter_name = chapter_name.split(' ')[0]\n",
    "    JST[chapter_name] = chapters\n",
    "\n",
    "with open('json/JST_1.json', 'w', encoding='utf-8') as f:\n",
    "    json.dump(JST, f, ensure_ascii=False, indent=4)"
   ]
  },
  {
   "cell_type": "code",
   "execution_count": 10,
   "metadata": {},
   "outputs": [
    {
     "data": {
      "text/plain": [
       "(dict_keys(['Matt']),\n",
       " ['',\n",
       "  '',\n",
       "  '',\n",
       "  '',\n",
       "  'Matt.마1:1 아브라함의 자손이요 다 윗의 자손인 예수 그리스도의 족보라 The book of the generation of Jesus Christ, the Son of David, the son of Abraham. Matt.마1:2 아브라함이 이삭을 낳고 이삭은 야곱을 낳고 야곱은 유다와 그 의 형제들을 낳고 Abraham begat Isaac; and Isaac begat Jacob; and Jacob begat Judas and his brethren; Matt.마1:3 유다는 다말에게서 베레 스와 세라를 낳고 베레스는 에스롬을 낳고 에스롬은 아람을 낳고 and Judas begat Phares and Zara of Thama r; and Phares begat Esrom; and Esrom begat Aram; Matt.마1:4, JST1:2 아람은 아미나답 을 낳고 아미나답은 나손을 낳고 나손 은 살몬을 낳고 and Aram begat Aminadab; and Aminadab begat Naason ; and Naason begat Sal mon; Matt.마1:5 살몬은 라합에게서 보아 스를 낳고 보아스는 룻에게서 오벳을 낳고 오벳은 이새를 낳고 and Salmon begat Booz of Rachab; and Booz begat Obed of Ruth; and Obed begat Jesse; Matt.마1:6 이새는 다윗 왕을 낳았더 라 and Jesse begat David the king. JST1:3 다윗 왕은 우리야 로부터 빼앗 은 그녀에게서 솔로몬을 낳고 And David the king begat Solomon of her whom David had taken of Urias; Matt.마1:7 솔로몬은 르호보암을 낳 고 르호보암은 아비야를 낳고 아비야는 아사를 낳고 and Solomon begat Roboam; and Roboam begat Abia; and Abia begat Asa; Matt.마1:8 아사는 여호사밧을 낳고 여호사밧은 요람을 낳고 요람은 웃시야 를 낳고 and Asa begat Josaphat; and Josaphat begat Joram; and Joram begat Ozias; ',\n",
       "  'Matt.마1:9 웃시야는 요담을 낳고 요 담은 아하스를 낳고 아하스는 히스기야 를 낳고 and Ozias begat Joatham; and Joatham begat Achaz; and Achaz begat Ezekias; Matt.마1:10 히스기야는 므낫세를 낳고 므낫세는 아몬을 낳고 아몬은 요 시야를 낳고 and Ezekias begat Manasses; and Manasses begat Amon; and Amon begat Josias; Matt.마1:11 요시야는 바벨론 으로 사로잡혀갈 무렵에 여고냐와 그의 형제 들을 낳았더 라 and Josias begat Jechonias and his brethren, about the time they were carried away to Babylon. Matt.마1:12, JST 1:4 바벨론 으로 사 로잡혀 간 후에 여고냐는 살라디엘을 낳고 살라디엘은 스룹바벨을 낳고 And after they were brought to Babylon, Jechonias begat Salathiel; and Salathiel begat Zorobable ; Matt.마1:13, JST 1:4 스룹바벨은 아 비웃을 낳고 아비웃은 엘리아김을 낳고 엘리아김은 아소르를 낳고 and Zorobable begat Abiud; and Abiud begat Eliakim; and Eliakim begat Azor; Matt.마1:14 아소르는 사독을 낳고 사독은 아킴을 낳고 아킴은 엘리웃을 낳고 and Azor begat Sadoc; and Sadoc begat Achim; and Ac him begat Eliud; Matt.마1:15 엘리웃은 엘르아살을 낳고 엘르아살은 맛단을 낳고 맛단은 야곱을 낳고 and Eliud begat Eleazar; and Eleazar begat Matthan; and Matthan begat Jacob; Matt.마1:16, JST 1:4 야곱은 마리아 의 남편 요셉을 낳았으며 마리아 에게서 선지자 들이 기록한 대로 그리스도라 하 는 예수가 났느니라 and Jacob begat Joseph , the husband of Mary, of whom was born J esus, as the prophets have written , who is called Christ. Matt.마1:17, JST 1:5 그러므로 모든 세대가 아브라함부터 다윗까지 열네 대 요 다윗부터 바벨론 으로 사로잡혀 갈 때까지 열네 대요 바벨론 으로 사로잡혀 간 후부터 그리스도까지 열네 대라 So all the generations from Abraham to David, were fourteen generations; and from David until the carrying away into Babylon, were fourteen generations; and from the carrying away into Babylon until Christ, were fourteen generations. Matt.마1:18, JST2:1 이제 기록된 대 로 예수 그리스도의 탄생이 이러하니라 그의 어머니 마리아가 요셉과 정혼하고 나서 동거하기 전에 성령을 통해 아이 를 가진 것이 밝혀지 매 Now, as it is wirtten, the birth of J esus Christ was on this wise. After his mother , Mary, was espoused to Joseph, before they came together, she was found with child of the Holy Ghost. Matt.마1:19 그녀의 남편 요셉은 의 로운 사람이라 그녀를 공개적 으로 드러 내려 하지 않고 조용히 보내려 했더라 Then Joseph, her husband, being a just man, and not willing to make her a public example, was minded to put her away privily. Matt.마1:20, JST 2:3 그가 이 일을 생각할 때 보라 주의 천사가 시현으로 그에게 나타나 이르되 다윗의 자손 요 셉아 너의 아내 마리아 데려오 기를 두 려워하지 말라 그녀가 잉태한 것은 성 령을 통한 것이라 But while he thought on these things, behold, the angel of the Lord appeared unto him in a vision , saying, Joseph, thou son of David, fear not to take unto thee Mary thy wife; for that which is conceived in her, is of the Holy Ghost. Matt.마1:21 그녀가 아들을 낳으리 니 너는 그의 이름을 예수라 하라 이는 그가 자기 백성을 그들의 죄로부터 구 원할 것임이 라 하더라 ',\n",
       "  'Matt.마1:22, JST 2:5 이제 이 일이 일어난 것은 선지자를 통해 주가 말한 모든 것이 성취되게 하려 함이니 이르 되 Now this took place, that all things might be fulfilled, which were spoken of the Lord, by the prophets, sa ying, Matt.마1:23, JST2:6 보라 처녀가 아 이를 가져 아들을 낳을 것이요 그의 이 름을 임마누엘이라 하리라 했느니라 (이것을 번역하면 하나님이 우리와 함 께하도다 함이라 ) Behold, a virgin shall be with child, and shall bring forth a son, and they shall call his name Emmanuel, (which, being interpreted, is , God with us. ) Matt.마1:24, JST 2:7 시현에서 깨어 난 요셉은 주의 천사가 명한 대로 하여 자기 아내를 데려왔 으되 Then Joseph, awaking out of his vision , did as the angel of the Lord had bidden him, and took unto him his wife; Matt.마1:25, JST 2:8 그녀가 맏아들 을 낳기까지 그녀를 알지 않더니 그들 이 그의 이름을 예수라 하더라 And knew her not until she had brought forth her first born son; and they called his name Jesus. '],\n",
       " ['Matt.마2:1 헤롯왕 시대에 유대 베들 레헴에서 예수가 태어날 때 보라 동쪽 으로부터 지혜로운 자들이 예루살렘 에 와서 Now when Jesus was born in Bethlehem of Judea, in the days of Herod the king, behold, there came wise men from the east to Jerusalem, Matt.마2:2, JST3:2 이르되 유대인의 메시아 로 태어난 아이가 어디 있느냐 우리가 동쪽에서 그의 별을 보고 그에 게 경배하러 왔노라 하매 Saying, Where is the child that is b orn, the Messiah of the Jews? f or we have seen his star in the east, and have come to worship him. Matt.마2:3, JST 3:3 헤롯 왕과 그와 함께하 는 온 예루살렘 이 그 아이에 관 한 소식을 듣고 소동하더라 When Herod the king had heard of the child, he was troubled, and all Jerusalem with him. Matt.마2:4, JST 3:4 왕이 모든 제사 장과 백성의 서기관 들을 모아놓고 그들 에게 물어 이르기를 선지자 들이 기록하 여 그리스도가 탄생하 리라 한 곳이 어 디냐 했나니 이는 그가 크게 두려워 하 되 선지자 들을 믿지는 않았음이 라 And when he had gathered all the chief priests , and scribes of the people together, he demanded of them, saying, Where is the place that is written of by the prophets, in which Christ should be born? For he greatly feared, yet he believed not the prophets . Matt.마2:5, JST 3:5 그들이 왕에게 이르되 선지자들은 그가 유대 베들레헴 에서 나리라 고 기록하여 이렇게 일렀나 이다 And they said unto him, It is written by the prophets , that he should be born in Bethlehem of Judea, for thus have they said, Matt.마2:6, JST 3:6 우리에게 임한 주의 말씀이 이르기를 유대 땅에 있는 베들레헴아 너의 안에서 유대의 왕 중 에 가장 큰 왕이 태어나 리니 이는 너에 게서 나의 백성 이스라엘을 구원할 메 시아가 나올 것임이 라 했나이다 하더라 The word of the Lord came unto us, saying , And thou Bethlehem, which lieth in the land of Judea , in thee shall be born a prince, which art not the least among the princes of Judea; for out of thee shall come the Messiah , who shall save my people Israel. Matt.마2:7, JST 3:7 이에 헤롯이 지 혜로운 자들을 조용히 불러 그 별이 어 느 때에 나타났는지 를 자세히 묻고 ',\n",
       "  'Matt.마2:8, JST3:8 그들을 베들레헴 으로 보내며 이르되 가서 그 어린아이 를 부지런 히 찾아보고 너희가 그 아이 를 찾으면 나에게 다시 전하여 나도 가 서 그에게 경배하게 하라 하매 And he sent them to Bethlehem , and said, Go and search diligently for the young child; and when ye have found the child , bring me word again, that I may come and worship him also. Matt.마2:9, JST 3:9 그들이 왕의 말 을 듣고 떠났더라 보라 그들이 동쪽에 서 보았던 별이 그들을 인도하여 어린 아이가 있는 곳에 이르러 그 위에 멈춰 서니 When they had heard the king, they departed; and lo, the star which they saw in the east , went before them , until it came and stood over where the young child was. Matt.마2:10 그들이 그 별을 보고 심히 큰 기쁨으로 즐거워 했으며 When they saw the star, they rejoiced with exceeding great joy. Matt.마2:11, JST3:11 그들이 그 집 에 들어가 그 어린아이 가 어머니 마리 아와 함께 있는 것을 보고 엎드려 그에 게 경배하고 보물함을 열어 예물 곧 황 금과 유향과 몰약을 드렸더 라 And when they were come into the house, they saw the young child, with Mary his mother, and fell down and worshiped him. And when they had opened their treasures , they prese nted unto him gifts; gold, and frankin cense, and myrrh. Matt.마2:12 그들은 꿈에 헤롯에게 돌아가지 말라는 하나님의 경고를 받아 다른 길로 자기 나라에 갔더라 And being warned of God in a dream that they should not return to Herod, they departed into their own country another way. Matt.마2:13, JST3:13 그들이 떠나고 나서 보라 주의 천사가 시현 가운데 요 셉에게 나타나 이르되 일어나 어린아이 와 그의 어머니를 데리고 애굽으로 도 망하여 내가 너에게 소식을 전할 때까 지 그곳에 머물라 이는 헤롯이 그 어린 아이를 찾아 죽이려 함이라 하더라 And when they were departed , behold, the angel of the Lord , appeared to Joseph in a vision , saying, Arise and take the young child and his mother, and flee into Egypt, and tarry thou there until I bring thee word; for Herod will seek the young child to destroy him. Matt.마2:14, JST 3:14 이에 그가 일 어나 어린아이와 그 아이의 어머니를 데리고 밤중에 애굽으로 떠나고 And then he arose, and took the young child, and the child ’s mother, by night, and departed into Egypt; Matt.마2:15 헤롯이 죽기까지 그곳 에 있었나니 이는 선지자를 통해 주가 이르되 애굽에서 나의 아들을 불러내었 다 한 것이 성취되게 하려 함이라 And was there until the death of Herod, that it might be fulfilled which was spoken of the Lord , by the prophet, saying, Out of Egypt have I called my Son. Matt.마2:16, JST 3:16 이에 헤롯이 지혜로운 자들에게 속은 것을 알고 심 히 분노하여 사람들을 보내어 베들레헴 과 그 모든 지역에 있는 아이들을 지혜 로운 자들에게 자세히 물어본 그때를 기준으로 두 살부터 그 아래로 모두 죽 였더라 Then Herod, when he saw that he was mocked of th e wise men, was exceeding wroth ; and sent forth and slew all the children that were in Bethlehem , and all the coasts thereof, from two years old and under, according to the time which he had diligently inquired of the wise men. Matt.마2:17 그때 선지자 예레미야 의 말이 성취되 었나니 이르되 ',\n",
       "  'Matt.마2:18, JST3:18 라마에서 애곡 하고 슬퍼하며 크게 애통하는 소리가 들림은 라헬이 자기 자식을 잃은 것을 슬퍼함이요 그들이 없으므로 위로받 으 려 하지 않음이라 한 것이라 In Rama there was a voice heard , lamentation, and weeping, and great mourning; Rachael weeping for the loss of her children, and would not be comforted because they were not. Matt.마2:19, JST3:19 그러나 헤롯이 죽은 후에 보라 주의 천사가 애굽에 있 는 요셉에게 시현 가운데 나타나 But when Herod was dead, behold, an angel of the Lord appeared in a vision to Joseph in Egypt, Matt.마2:20, JST3:20 이르되 일어나 어린아이와 그의 어머니를 데리고 이스 라엘 땅으로 들어가라 어린아이의 생명 을 찾던 자들이 죽었느니라 하매 Saying, Arise, and take the young child and his mother, and go into the land of Israel; for they are dead who sought the young child ’s life. Matt.마2:21 그가 일어나 어린아이 와 그의 어머니를 데리고 이스라엘 땅 으로 들어갔으나 And he arose, and took the young child and his mother, and came into the land of Israel. Matt.마2:22, JST3:22 아겔라오가 그 의 아버지 헤롯을 대신하여 유대에서 다스린다는 것을 듣고 그곳으 로 가기를 두려워하더라 그러나 시현으로 하나님 의 경고를 받고 갈릴리 동쪽 지역으로 들어가 But when he heard th at Archelaus did reign in Judea , in the stead of his father Herod, he was afraid to go thither; but, notwithstanding, being warned of God in a vision, he went into the eastern part of Galilee; Matt.마2:23 나사렛이라 하는 성읍 에 와서 거했나니 이는 선지자를 통해 전해진 말 곧 그는 나사렛 사람이라 불 리리라 한 것이 성취되게 하려 함이라 And he came and dwelt in a city called Nazareth, that it might be fulfilled which was spoken by the prophets, He shall be called a Nazarene. '])"
      ]
     },
     "execution_count": 10,
     "metadata": {},
     "output_type": "execute_result"
    }
   ],
   "source": [
    "JST.keys(), JST['Matt'][1],JST['Matt'][2]"
   ]
  },
  {
   "cell_type": "code",
   "execution_count": null,
   "metadata": {},
   "outputs": [],
   "source": []
  },
  {
   "cell_type": "code",
   "execution_count": 1,
   "metadata": {},
   "outputs": [
    {
     "data": {
      "text/plain": [
       "dict_keys(['Matt', 'Mark', 'Luke', 'John', 'Acts', 'Rom', '1Cor', '2Cor', 'Gal', 'Eph', 'Philip', 'Col', '1Thes', '2Thes', '1Tim', '2Tim', 'Titus', 'Philem', 'Heb', 'James', '1Pet', '2Pet', '1Jn', '2Jn', '3Jn', 'Jude', 'Rev'])"
      ]
     },
     "execution_count": 1,
     "metadata": {},
     "output_type": "execute_result"
    }
   ],
   "source": [
    "import json\n",
    "\n",
    "\n",
    "with open('json/JST.json', 'r', encoding='utf-8') as f:\n",
    "    JST = json.load(f)\n",
    "JST.keys()"
   ]
  },
  {
   "cell_type": "code",
   "execution_count": 3,
   "metadata": {},
   "outputs": [
    {
     "data": {
      "text/plain": [
       "dict_keys(['1', '2', '3', '4', '5', '6', '7', '8', '9', '10', '11', '12', '13', '14', '15', '16', '17', '18', '19', '20', '21', '22', '23', '24', '25', '26', '27', '28'])"
      ]
     },
     "execution_count": 3,
     "metadata": {},
     "output_type": "execute_result"
    }
   ],
   "source": [
    "JST['Matt'].keys()"
   ]
  },
  {
   "cell_type": "code",
   "execution_count": 4,
   "metadata": {},
   "outputs": [
    {
     "data": {
      "text/plain": [
       "True"
      ]
     },
     "execution_count": 4,
     "metadata": {},
     "output_type": "execute_result"
    }
   ],
   "source": [
    "JST['Matt']['1'] == JST['Matt']['2']"
   ]
  },
  {
   "cell_type": "code",
   "execution_count": null,
   "metadata": {},
   "outputs": [],
   "source": []
  },
  {
   "cell_type": "code",
   "execution_count": null,
   "metadata": {},
   "outputs": [],
   "source": []
  },
  {
   "cell_type": "code",
   "execution_count": 164,
   "metadata": {},
   "outputs": [
    {
     "data": {
      "text/plain": [
       "[\"하나님이 택하신 이에 대한 신앙과 경건을 좇는 진리에 속한 깨달음 에 따라 하나님의 종과 예수 그 리스도의 사도 된 바울은 Paul, a servant of God, and an apostle of Jesus Christ, according to the faith of God's elect, and the acknowledging of the truth which is after godliness; \",\n",
       " '영생의 소망 안에서 부 름 받았나니 영생은 거짓말할 수 없는 하나님이 세상이 시작되기 전부터 약속 한 것이라 In hope of eternal life, which God, that cannot lie, promised before the world began; ',\n",
       " ' 그러나 하나님 우리 구원자의 계명에 따라 나에게 맡 겨진 전도를 통해 적절한 시기에 그의 말씀이 나타났 나니 But hath in due times manifested his word through preaching, which is committed unto me according to the commandment of God our Savior ; ',\n",
       " ' 같은 신앙을 좇 아 나의 아들 된 디도에게 아버지 하나 님과 우리의 구원자 주 예수 그리스도 로부터 은혜와 자비와 평강이 있기를 원하노라 To Titus, mine own son after the common faith; Grace, mercy, and peace, from God the Father and the Lord Jesus Christ our Savior . ',\n",
       " '내가 너를 그레데에 남 겨둔 것은 이런 목적이니 부족한 것들 을 바로잡고 내가 너에게 지시한 대로 각 성읍에 장로를 성임하되 For this cause left I thee in Crete, that thou shouldest set in order the things ',\n",
       " '누구든 지 흠이 없고 한 아내의 남편으로서 방탕하거나 무례하 다고 비난받지 않는 신실한 자녀를 둔 사람으로 하라 If any be blameless, the husband of one wife, having faithful children not accused of riot or unruly. ',\n",
       " '감독은 하나님의 청지기 로서 흠이 없어야 하나니 제고집대로 하지 않고 급하게 화내지 않으며 술에 빠지지 않고 때리지 않고 더러운 이익 을 탐내지 않으며 For a bishop must be blameless, as the steward of God; not selfwilled, not soon angry, not given to wine, no striker, not given to filthy lucre; ',\n",
       " '손님 대접하기를 좋아하 고 선한 사람을 사랑하 고 진지하고 공 의롭고 거룩하고 자제하는 자요 But a lover of hospitality, a lover of good men, sober, just, holy, temperate; ',\n",
       " '자기가 가르침 받은 대 로 신실한 말씀을 굳게 붙들어 거역하 는 자들을 올바른 교리로 권고하고 확 신시킬 수 있는 자라야 하느니라 Holding fast the faithful word as he hath been taught, that he may be able by sound doctrine both to exhort and to convince the gainsayers. ',\n",
       " '무례하 고 헛된 말을 하 며 속이는 자가 많거니와 특별히 할례 자에 속한 자들이 그러하니 For there are many unruly and vain talkers and deceivers, specially they of the circumcision; ',\n",
       " \"더러운 이익을 위해 해 서는 안 될 것을 가르쳐 온전한 가정을 뒤엎는 그들의 입을 반드시 막으라 Whose mouths must be stopped, who subvert whole houses, teaching things which they ought not, for filthy lucre's sake. \",\n",
       " '그들 가운데 하나인 그들의 선지자가 이르되 그레데인은 항상 거짓말 하는 자요 악한 짐승 이요 게으른 탐식가라 했나니 One of themselves, even a prophet of their own, said, The Cretians are always liars, evil beasts, slow bellies. ',\n",
       " '이 증언이 참되도다 그 러므로 그들을 날카롭게 꾸짖어 신앙 안에서 바로잡고 This witness is true. Wherefore rebuke them sharply, that they may be sound in the faith; ',\n",
       " '유대인 이 꾸며낸 이야 기나 진리로부터 돌아선 사람들의 계명 에 귀를 기울이지 않게 하라 Not giving heed to Jewish fables, and commandments of men, that turn from the truth. ',\n",
       " '정결한 자에 게는 모든 것이 정결하 나 더럽고 믿지 않는 자에게는 정결한 것이 없으며 그 들의 마음과 양심도 더럽게 되느니라 Unto the pure, let all things be pure; but unto them who are defiled and unbelieving, nothing is pure; but even their mind and conscience is defiled. ',\n",
       " '그들은 하나님을 안다 고 고백하나 행위로는 그를 부인하니 가증하 고 불순종하 며 모든 선한 일에 대해 타락한 자가 되었느니라 They profess that they know God; but in works they deny him, being abominable, and disobedient, and unto every good work reprobate. ',\n",
       " '너는 올바른 교리가 되 는 것을 말하여 But speak thou the things which become sound doctrine; ',\n",
       " '연로한 남자로 하여금 진지하고 신중하고 자제하며 신앙과 사 랑과 인내 안에서 올바르 게 행하도록 하라 That the aged men be sober, grave, temperate, sound in faith, in charity, in patience. ',\n",
       " '연로한 여자도 행실이 거룩한 자가 되고 거짓으로 고소하는 ']"
      ]
     },
     "execution_count": 164,
     "metadata": {},
     "output_type": "execute_result"
    }
   ],
   "source": [
    "import re\n",
    "text = []\n",
    "s = 628 # 185 750\n",
    "e = 630\n",
    "idx0 = 0\n",
    "idx1 = 0\n",
    "chapter_name = 'Titus 딛'\n",
    "chapters = []\n",
    "verses = []\n",
    "for i, page in enumerate(pages[s:e], s+1):\n",
    "    sub = page.extract_text()\n",
    "    flag = False\n",
    "    verse = []\n",
    "    for j, line in enumerate(sub.lstrip(str(i)).lstrip().split('\\n')):\n",
    "        if line.startswith('△'):\n",
    "            flag = True\n",
    "        if not flag:\n",
    "            continue\n",
    "        if line.startswith('△'):\n",
    "            if verse:\n",
    "                verses.append(' '.join(verse).replace('- ', '').replace('△', '').replace('   ', ' ').replace('  ', ' '))\n",
    "                verse = []\n",
    "            t = re.search('△'+chapter_name+'[\\d]+:[\\d]+, JST[\\d]+:[\\d]+', line)\n",
    "            if t != None:\n",
    "                verse.append(line[t.span()[1]+1:])\n",
    "            else:\n",
    "                t = re.search('△'+chapter_name+'[\\d]+:[\\d]+', line)\n",
    "                verse.append(line[t.span()[1]+1:])\n",
    "        elif line.startswith('JST'):\n",
    "            t = re.search('JST[\\d]+:[\\d]+', line)\n",
    "            verse.append(line[t.span()[1]+1:])\n",
    "        else:\n",
    "            verse.append(line)\n",
    "    verses.append(' '.join(verse).replace('- ', '').replace('△', '').replace('   ', ' ').replace('  ', ' '))\n",
    "#     text.append(sub)\n",
    "# print('\\n'.join(text))\n",
    "verses"
   ]
  },
  {
   "cell_type": "code",
   "execution_count": null,
   "metadata": {},
   "outputs": [],
   "source": []
  },
  {
   "cell_type": "markdown",
   "metadata": {},
   "source": [
    "# preprocessing"
   ]
  },
  {
   "cell_type": "code",
   "execution_count": 72,
   "metadata": {},
   "outputs": [],
   "source": [
    "import re\n",
    "import json\n",
    "\n",
    "with open('json/JST_1.json', 'r', encoding='utf-8') as f:\n",
    "    JST = json.load(f)\n",
    "\n",
    "chapters = [*JST.keys()]\n",
    "\n",
    "for chapter in chapters:\n",
    "    pattern1 = chapter+r'.{2,7}:'\n",
    "    pattern2 = r'[^,] JST\\d+:'\n",
    "    for k, v in JST[chapter].items():\n",
    "        combined = ' '.join([i for i in v if i])\n",
    "        # print(combined)\n",
    "        idx1 = [*map(lambda x: x.span()[0], re.finditer(pattern1, combined))]\n",
    "        idx2 = [*map(lambda x: x.span()[0]+2, re.finditer(pattern2, combined))]\n",
    "        idx = sorted(set(idx1 + idx2 + [len(combined)]))\n",
    "        JST[chapter][k] = [combined[idx[i]: idx[i+1]] for i in range(len(idx) - 1)]\n",
    "    #     if k == '3':\n",
    "    #         break\n",
    "    # break\n",
    "with open('json/JST_translation_1.json', 'w', encoding='utf-8') as f:\n",
    "    json.dump(JST, f, ensure_ascii=False, indent=4)"
   ]
  },
  {
   "cell_type": "code",
   "execution_count": 70,
   "metadata": {},
   "outputs": [
    {
     "name": "stdout",
     "output_type": "stream",
     "text": [
      ". JST1:\n"
     ]
    }
   ],
   "source": [
    "for i in re.finditer(pattern2, combined):\n",
    "    print(i.group())"
   ]
  },
  {
   "cell_type": "code",
   "execution_count": 80,
   "metadata": {},
   "outputs": [
    {
     "name": "stdout",
     "output_type": "stream",
     "text": [
      "46\n",
      "44\n",
      "59\n",
      "8217\n",
      "40\n",
      "41\n",
      "33\n",
      "63\n",
      "32\n"
     ]
    }
   ],
   "source": [
    "for i in '.,;’()!? ':\n",
    "    print(ord(i))"
   ]
  },
  {
   "cell_type": "code",
   "execution_count": 81,
   "metadata": {},
   "outputs": [],
   "source": [
    "with open('json/JST_translation_1.json', 'r', encoding='utf-8') as f:\n",
    "    JST_translation = json.load(f)\n",
    "JST_translation\n",
    "\n",
    "chapters = [*JST_translation.keys()]\n",
    "for chapter in chapters:\n",
    "    for k, v in JST_translation[chapter].items():\n",
    "        verses = []\n",
    "        for verse in v:\n",
    "            for i, s in enumerate(verse[30:], 30):\n",
    "                if s in '.,;\\'!? ()':\n",
    "                    continue\n",
    "                if ord(s) < 123:\n",
    "                    break\n",
    "            verses.extend([verse[:i], verse[i:]])\n",
    "        JST_translation[chapter][k] = verses\n",
    "\n",
    "with open('json/JST_translation_2.json', 'w', encoding='utf-8') as f:\n",
    "    json.dump(JST_translation, f, ensure_ascii=False, indent=4)"
   ]
  },
  {
   "cell_type": "code",
   "execution_count": null,
   "metadata": {},
   "outputs": [],
   "source": [
    "with open('json/JST_translation_1.json', 'r', encoding='utf-8') as f:\n",
    "    JST_translation = json.load(f)\n",
    "JST_translation\n",
    "\n",
    "chapters = [*JST_translation.keys()]\n",
    "for chapter in chapters:\n",
    "    for k, v in JST_translation[chapter].items():\n",
    "        verses = []\n",
    "        for verse in v:\n",
    "            for i, s in enumerate(verse[30:], 30):\n",
    "                if s in '.,;\\'!? ()':\n",
    "                    continue\n",
    "                if ord(s) < 123:\n",
    "                    break\n",
    "            verses.extend([verse[:i], verse[i:]])\n",
    "        JST_translation[chapter][k] = verses"
   ]
  }
 ],
 "metadata": {
  "kernelspec": {
   "display_name": "Python 3",
   "language": "python",
   "name": "python3"
  },
  "language_info": {
   "codemirror_mode": {
    "name": "ipython",
    "version": 3
   },
   "file_extension": ".py",
   "mimetype": "text/x-python",
   "name": "python",
   "nbconvert_exporter": "python",
   "pygments_lexer": "ipython3",
   "version": "3.12.4"
  }
 },
 "nbformat": 4,
 "nbformat_minor": 2
}
