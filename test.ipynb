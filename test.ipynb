{
 "cells": [
  {
   "cell_type": "code",
   "execution_count": 18,
   "metadata": {},
   "outputs": [
    {
     "name": "stdout",
     "output_type": "stream",
     "text": [
      "182\n"
     ]
    }
   ],
   "source": [
    "import re\n",
    "import json\n",
    "import requests\n",
    "from lxml import html\n",
    "\n",
    "headers = {\"User-Agent\": \"Mozilla/5.0\"}\n",
    "xpath = '//*[@id=\"main\"]/div/p//text()'\n",
    "new = {'matt':28, 'mark':16, 'luke':24, 'john':21, 'acts':28, 'rom':16, '1cor':16, '2cor':13, 'gal':6, \n",
    "       'eph':6, 'philip':4, 'col':4, '1thes':5, '2thes':3, '1tim':6, '2tim':4, 'titus':3, 'philem':1, \n",
    "       'heb':13, 'james':5, '1pet':5, '2pet':3, '1jn':5, '2jn':1, '3jn':1, 'jude':1, 'rev':22}\n",
    "scriptures = {}\n",
    "\n",
    "for book in new:\n",
    "    book_tmp = {}\n",
    "    for chapter in map(lambda x: str(x).rjust(2, '0'), range(1, new[book]+1)):\n",
    "        response = requests.get(url=f\"http://jstb.info/new/{book}{chapter}.html\", headers=headers)\n",
    "        scripture_li = html.fromstring(response.text).xpath(xpath)[4:]\n",
    "        n = len(scripture_li)\n",
    "        \n",
    "        tmp, kor, eng = [], [], []\n",
    "        for i in range(n):\n",
    "            if scripture_li[i] == '\\n\\t\\t\\t\\t\\t\\t    ':\n",
    "                if len(tmp) == 1:\n",
    "                    pattern = re.compile(r'[(ㄱ-ㅎㅏ-ㅣ가-힣\\s)]+')\n",
    "                    sentence = tmp.pop()\n",
    "                    ko = [str0 for str0 in pattern.findall(sentence) if re.match(r'[ㄱ-하-ㅣ가-힣]+', str0.strip())][-1].replace(\"(\", \"\\(\").replace(\")\", \"\\)\")\n",
    "                    idx = re.search(ko, sentence).end()\n",
    "                    print(idx)\n",
    "                    kor.append(sentence[:idx])\n",
    "                    eng.append(sentence[idx:])\n",
    "                else:\n",
    "                    eng.append(tmp.pop())\n",
    "                    kor.append(tmp.pop())\n",
    "            else:\n",
    "                tmp.append(scripture_li[i].replace(\"\\n\\t\\t\\t\\t\\t\\t    \", \"\").replace(\"△\", \"\"))\n",
    "        book_tmp[f'{int(chapter)}장'] = {'verses': len(kor), 'kor': kor, 'eng': eng}\n",
    "    scriptures[book] = [book_tmp, {'chapters': new[book]}]\n",
    "\n",
    "# with open(\"scriptures/scriptures.json\", 'w', encoding='utf-8') as f:\n",
    "#     json.dump(scriptures, f, indent=4, ensure_ascii=False)\n"
   ]
  },
  {
   "cell_type": "code",
   "execution_count": 19,
   "metadata": {},
   "outputs": [
    {
     "data": {
      "text/plain": [
       "{'matt': [{'3장': {'verses': 1,\n",
       "    'kor': ['Matt.마3:11, JST3:38 진실로 나는 너희가 회개하면 물로 침례하거니와 내가 증언하는 이가 오면 그는 나보다 강하니 나는 그의 신을 들기에도 합당하지 않으니라 (그의 자리를 내가 대신할 수 없느니라) 내가 이르거니와 진실로 그가 오기 전에 내가 너희를 침례하는 것은 그가 와서 너희를 성령과 불로 침례하기 위함이라 '],\n",
       "    'eng': ['I indeed baptize you with water, upon your repentance; and when he of whom I bear record cometh, who is mightier than I, whose shoes I am not worthy to bear, (or whose place I am not able to fill,) as I said, I indeed baptize you before he cometh, that when he cometh he may baptize you with the Holy Ghost and fire.']}},\n",
       "  {'chapters': 28}]}"
      ]
     },
     "execution_count": 19,
     "metadata": {},
     "output_type": "execute_result"
    }
   ],
   "source": [
    "scriptures"
   ]
  },
  {
   "cell_type": "code",
   "execution_count": null,
   "metadata": {},
   "outputs": [],
   "source": []
  },
  {
   "cell_type": "code",
   "execution_count": 21,
   "metadata": {},
   "outputs": [],
   "source": [
    "import json\n",
    "\n",
    "with open(\"./scriptures/scriptures.json\", \"r\", encoding='utf-8') as f:\n",
    "    s = json.load(f)"
   ]
  },
  {
   "cell_type": "code",
   "execution_count": 29,
   "metadata": {},
   "outputs": [],
   "source": [
    "for i, book in s.items():\n",
    "    for j, chapter in book[1].items():\n",
    "        if len(chapter[\"kor\"]) != len(chapter[\"eng\"]):\n",
    "            print(i, j)"
   ]
  },
  {
   "cell_type": "code",
   "execution_count": null,
   "metadata": {},
   "outputs": [],
   "source": [
    "s['matt'][1][\"1장\"][\"kor\"]"
   ]
  }
 ],
 "metadata": {
  "kernelspec": {
   "display_name": "Python 3",
   "language": "python",
   "name": "python3"
  },
  "language_info": {
   "codemirror_mode": {
    "name": "ipython",
    "version": 3
   },
   "file_extension": ".py",
   "mimetype": "text/x-python",
   "name": "python",
   "nbconvert_exporter": "python",
   "pygments_lexer": "ipython3",
   "version": "3.11.5"
  }
 },
 "nbformat": 4,
 "nbformat_minor": 2
}
